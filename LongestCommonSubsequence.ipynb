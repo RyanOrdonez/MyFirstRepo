{
  "cells": [
    {
      "cell_type": "markdown",
      "metadata": {
        "id": "view-in-github",
        "colab_type": "text"
      },
      "source": [
        "<a href=\"https://colab.research.google.com/github/RyanOrdonez/MyFirstRepo/blob/main/LongestCommonSubsequence.ipynb\" target=\"_parent\"><img src=\"https://colab.research.google.com/assets/colab-badge.svg\" alt=\"Open In Colab\"/></a>"
      ]
    },
    {
      "cell_type": "code",
      "execution_count": 1,
      "id": "available-garlic",
      "metadata": {
        "colab": {
          "base_uri": "https://localhost:8080/"
        },
        "id": "available-garlic",
        "outputId": "3dff2a01-22da-4dbd-b278-7ee1340a44c9"
      },
      "outputs": [
        {
          "output_type": "stream",
          "name": "stdout",
          "text": [
            "Collecting ipython-autotime\n",
            "  Downloading ipython_autotime-0.3.1-py2.py3-none-any.whl (6.8 kB)\n",
            "Requirement already satisfied: ipython in /usr/local/lib/python3.10/dist-packages (from ipython-autotime) (7.34.0)\n",
            "Requirement already satisfied: setuptools>=18.5 in /usr/local/lib/python3.10/dist-packages (from ipython->ipython-autotime) (67.7.2)\n",
            "Collecting jedi>=0.16 (from ipython->ipython-autotime)\n",
            "  Downloading jedi-0.19.0-py2.py3-none-any.whl (1.6 MB)\n",
            "\u001b[2K     \u001b[90m━━━━━━━━━━━━━━━━━━━━━━━━━━━━━━━━━━━━━━━━\u001b[0m \u001b[32m1.6/1.6 MB\u001b[0m \u001b[31m21.5 MB/s\u001b[0m eta \u001b[36m0:00:00\u001b[0m\n",
            "\u001b[?25hRequirement already satisfied: decorator in /usr/local/lib/python3.10/dist-packages (from ipython->ipython-autotime) (4.4.2)\n",
            "Requirement already satisfied: pickleshare in /usr/local/lib/python3.10/dist-packages (from ipython->ipython-autotime) (0.7.5)\n",
            "Requirement already satisfied: traitlets>=4.2 in /usr/local/lib/python3.10/dist-packages (from ipython->ipython-autotime) (5.7.1)\n",
            "Requirement already satisfied: prompt-toolkit!=3.0.0,!=3.0.1,<3.1.0,>=2.0.0 in /usr/local/lib/python3.10/dist-packages (from ipython->ipython-autotime) (3.0.39)\n",
            "Requirement already satisfied: pygments in /usr/local/lib/python3.10/dist-packages (from ipython->ipython-autotime) (2.14.0)\n",
            "Requirement already satisfied: backcall in /usr/local/lib/python3.10/dist-packages (from ipython->ipython-autotime) (0.2.0)\n",
            "Requirement already satisfied: matplotlib-inline in /usr/local/lib/python3.10/dist-packages (from ipython->ipython-autotime) (0.1.6)\n",
            "Requirement already satisfied: pexpect>4.3 in /usr/local/lib/python3.10/dist-packages (from ipython->ipython-autotime) (4.8.0)\n",
            "Requirement already satisfied: parso<0.9.0,>=0.8.3 in /usr/local/lib/python3.10/dist-packages (from jedi>=0.16->ipython->ipython-autotime) (0.8.3)\n",
            "Requirement already satisfied: ptyprocess>=0.5 in /usr/local/lib/python3.10/dist-packages (from pexpect>4.3->ipython->ipython-autotime) (0.7.0)\n",
            "Requirement already satisfied: wcwidth in /usr/local/lib/python3.10/dist-packages (from prompt-toolkit!=3.0.0,!=3.0.1,<3.1.0,>=2.0.0->ipython->ipython-autotime) (0.2.6)\n",
            "Installing collected packages: jedi, ipython-autotime\n",
            "Successfully installed ipython-autotime-0.3.1 jedi-0.19.0\n",
            "time: 391 µs (started: 2023-08-10 10:13:21 +00:00)\n"
          ]
        }
      ],
      "source": [
        "try:\n",
        "    %load_ext autotime\n",
        "except:\n",
        "    !pip install ipython-autotime\n",
        "    %load_ext autotime"
      ]
    },
    {
      "cell_type": "markdown",
      "id": "narrative-picking",
      "metadata": {
        "id": "narrative-picking"
      },
      "source": [
        "## Dynamic Programming Algorithm for Longest Common Subsequence\n",
        "\n",
        "$\\newcommand\\len{\\mathsf{len}}\n",
        "\\newcommand\\lcss{\\mathsf{lcss}}$\n",
        "\n",
        "\n",
        "Recall the recurrence that we implement to be `Python` friendly assuming that the arguments $i,j$ satisfy\n",
        "$0 \\leq i \\leq \\len(s_1)$ and $0 \\leq j \\leq \\len(s_2)$.\n",
        "\n",
        "\n",
        "$$\\lcss(i, j) = \\begin{cases}\n",
        "0 & i \\geq \\len(s_1) \\\\\n",
        "0 & j \\geq \\len(s_2) \\\\\n",
        "1 + \\lcss(i+1, j+1 ) &  s_1[i] = s_2[j] \\\\\n",
        "\\max( \\lcss(i+1, j), \\lcss(i, j+1) ) & \\text{otherwise} \\\\\n",
        "\\end{cases} $$"
      ]
    },
    {
      "cell_type": "code",
      "execution_count": 2,
      "id": "exceptional-detective",
      "metadata": {
        "colab": {
          "base_uri": "https://localhost:8080/"
        },
        "id": "exceptional-detective",
        "outputId": "04241cdd-e3b1-41f2-f706-adef095a7d86"
      },
      "outputs": [
        {
          "output_type": "stream",
          "name": "stdout",
          "text": [
            "time: 824 µs (started: 2023-08-10 10:13:25 +00:00)\n"
          ]
        }
      ],
      "source": [
        "def lcs(s1, s2, i, j):\n",
        "    assert 0 <= i and i <= len(s1)\n",
        "    assert 0 <= j and j <= len(s2)\n",
        "    if i == len(s1):\n",
        "        return 0\n",
        "    if j == len(s2):\n",
        "        return 0\n",
        "    if s1[i] == s2[j]:\n",
        "        return 1 + lcs(s1, s2, i+1, j+1)\n",
        "    else:\n",
        "        return max(lcs(s1, s2, i+1, j), lcs(s1, s2, i, j+1))"
      ]
    },
    {
      "cell_type": "markdown",
      "id": "controlled-senate",
      "metadata": {
        "id": "controlled-senate"
      },
      "source": [
        "Warning: the recurrence above is quite inefficient. See for yourself."
      ]
    },
    {
      "cell_type": "code",
      "execution_count": 3,
      "id": "multiple-weekly",
      "metadata": {
        "colab": {
          "base_uri": "https://localhost:8080/"
        },
        "id": "multiple-weekly",
        "outputId": "04539495-c451-4112-fd7c-677556d926b8"
      },
      "outputs": [
        {
          "output_type": "stream",
          "name": "stdout",
          "text": [
            "6\n",
            "time: 1.66 ms (started: 2023-08-10 10:13:32 +00:00)\n"
          ]
        }
      ],
      "source": [
        "s1 = \"GATTACA\"\n",
        "s2 = \"ACTGATAACAA\"\n",
        "print(lcs(s1, s2, 0, 0))"
      ]
    },
    {
      "cell_type": "code",
      "execution_count": 4,
      "id": "limited-former",
      "metadata": {
        "colab": {
          "base_uri": "https://localhost:8080/"
        },
        "id": "limited-former",
        "outputId": "d5ebabe4-d76b-4797-b5c0-a57221fae3ba"
      },
      "outputs": [
        {
          "output_type": "stream",
          "name": "stdout",
          "text": [
            "10\n",
            "time: 91.6 ms (started: 2023-08-10 10:13:37 +00:00)\n"
          ]
        }
      ],
      "source": [
        "s1 = \"GGATTACCATTATGGAGGCGGA\"\n",
        "s2 = \"ACTTAGGTAGG\"\n",
        "print(lcs(s1, s2, 0, 0))"
      ]
    },
    {
      "cell_type": "code",
      "execution_count": 5,
      "id": "exotic-thing",
      "metadata": {
        "colab": {
          "base_uri": "https://localhost:8080/"
        },
        "id": "exotic-thing",
        "outputId": "cc4f6f5f-5092-41d6-916d-336adbfd4f0a"
      },
      "outputs": [
        {
          "output_type": "stream",
          "name": "stdout",
          "text": [
            "11\n",
            "time: 44.8 s (started: 2023-08-10 10:13:44 +00:00)\n"
          ]
        }
      ],
      "source": [
        "# This is just slightly longer and will take more than a minute and a half to run\n",
        "s1 = \"GGATTACCATTATGGAGGCGGA\"\n",
        "s2 = \"ACTTAGGTAGATTATCCG\"\n",
        "print(lcs(s1, s2, 0, 0))"
      ]
    },
    {
      "cell_type": "code",
      "execution_count": 6,
      "id": "narrative-vienna",
      "metadata": {
        "colab": {
          "base_uri": "https://localhost:8080/"
        },
        "id": "narrative-vienna",
        "outputId": "4f6fa79c-f190-4817-dbf7-607bcf8b62ee"
      },
      "outputs": [
        {
          "output_type": "stream",
          "name": "stdout",
          "text": [
            "24\n",
            "time: 23min 43s (started: 2023-08-10 10:14:36 +00:00)\n"
          ]
        }
      ],
      "source": [
        "#slightly longer strings will take \"forever\" to run\n",
        "s1 = \"GGATTACACATTACCTATAGGTATAAT\"\n",
        "s2 = \"GGATTTATCTATAAATTACCTATTTATTATATTACCGTATGGTATGC\"\n",
        "print(lcs(s1, s2, 0, 0))"
      ]
    },
    {
      "cell_type": "code",
      "execution_count": 7,
      "id": "sticky-stream",
      "metadata": {
        "colab": {
          "base_uri": "https://localhost:8080/"
        },
        "id": "sticky-stream",
        "outputId": "f0cd7708-a1af-49af-b3f6-0cb173750c55"
      },
      "outputs": [
        {
          "output_type": "stream",
          "name": "stdout",
          "text": [
            "time: 6.59 ms (started: 2023-08-10 12:27:22 +00:00)\n"
          ]
        }
      ],
      "source": [
        "#Let's memoize\n",
        "\n",
        "def memoize_lcs(s1, s2):\n",
        "    m = len(s1)\n",
        "    n = len(s2)\n",
        "    # let's create a memo table and fill it with zeros. This will nicely take care of the base cases.\n",
        "    memo_tbl = [ [0 for j in range(n+1)] for i in range(m+1)]\n",
        "    sol_info = [ ['' for j in range(n+1)] for i in range(m+1)] # This will help us recover solutions\n",
        "    for i in range(m-1, -1, -1): # iterate from m-1 to 0 with a step of -1\n",
        "        for j in range(n-1, -1, -1):\n",
        "            if s1[i] == s2[j]:\n",
        "                memo_tbl[i][j] = memo_tbl[i+1][j+1] + 1\n",
        "                sol_info[i][j] = 'match'\n",
        "            else:\n",
        "                # Python allows us to compare and assign tuples\n",
        "                # This nifty bit of code saves us an if then else condition and assignments\n",
        "                # if you are new to python feel free to write out the logic carefully\n",
        "                memo_tbl[i][j], sol_info[i][j] = max((memo_tbl[i+1][j],'right'), (memo_tbl[i][j+1], 'down'))\n",
        "    # Now let us recover the longest common sub sequence\n",
        "    lcs = '' # initialize it to empty string\n",
        "    match_locations = [] # matches of (i,j)\n",
        "    i = 0\n",
        "    j = 0 # start at top left corner\n",
        "    while (i < m and j < n):\n",
        "        if sol_info[i][j] == 'match':\n",
        "            assert s1[i] == s2[j]\n",
        "            lcs = lcs + s1[i]\n",
        "            match_locations.append((i,j))\n",
        "            i,j = i + 1, j + 1\n",
        "        elif sol_info[i][j] == 'right':\n",
        "            i, j = i+1, j\n",
        "        else:\n",
        "            assert sol_info[i][j] == 'down'\n",
        "            i, j = i, j+1\n",
        "    return lcs, match_locations"
      ]
    },
    {
      "cell_type": "code",
      "execution_count": 8,
      "id": "challenging-bosnia",
      "metadata": {
        "colab": {
          "base_uri": "https://localhost:8080/"
        },
        "id": "challenging-bosnia",
        "outputId": "fce5bdb4-8b0d-425b-fa16-fd937e0ae1dd"
      },
      "outputs": [
        {
          "output_type": "stream",
          "name": "stdout",
          "text": [
            "Longest common subsequence: ATTACA length= 6\n",
            "Matches:\n",
            "\t Char:\t i, j\n",
            "\t A:\t 1, 0\n",
            "\t T:\t 2, 2\n",
            "\t T:\t 3, 5\n",
            "\t A:\t 4, 6\n",
            "\t C:\t 5, 8\n",
            "\t A:\t 6, 9\n",
            "time: 1.58 ms (started: 2023-08-10 12:27:25 +00:00)\n"
          ]
        }
      ],
      "source": [
        "s1 = \"GATTACA\"\n",
        "s2 = \"ACTGATAACAA\"\n",
        "(lcs, match_locations) = memoize_lcs(s1, s2)\n",
        "print(f'Longest common subsequence: {lcs} length= {len(lcs)}')\n",
        "print('Matches:')\n",
        "print('\\t Char:\\t i, j')\n",
        "for (i, j) in match_locations:\n",
        "    print(f'\\t {s1[i]}:\\t {i}, {j}')\n"
      ]
    },
    {
      "cell_type": "code",
      "execution_count": 9,
      "id": "collaborative-chrome",
      "metadata": {
        "colab": {
          "base_uri": "https://localhost:8080/"
        },
        "id": "collaborative-chrome",
        "outputId": "b561aa05-9077-47f7-bd57-f82c3f058b50"
      },
      "outputs": [
        {
          "output_type": "stream",
          "name": "stdout",
          "text": [
            "Longest common subsequence: ACTTAGGAGG length= 10\n",
            "Matches:\n",
            "\t Char:\t i, j\n",
            "\t A:\t 2, 0\n",
            "\t C:\t 6, 1\n",
            "\t T:\t 9, 2\n",
            "\t T:\t 10, 3\n",
            "\t A:\t 11, 4\n",
            "\t G:\t 13, 5\n",
            "\t G:\t 14, 6\n",
            "\t A:\t 15, 8\n",
            "\t G:\t 16, 9\n",
            "\t G:\t 17, 10\n",
            "time: 6.65 ms (started: 2023-08-10 12:27:29 +00:00)\n"
          ]
        }
      ],
      "source": [
        "s1 = \"GGATTACCATTATGGAGGCGGA\"\n",
        "s2 = \"ACTTAGGTAGG\"\n",
        "(lcs, match_locations) = memoize_lcs(s1, s2)\n",
        "print(f'Longest common subsequence: {lcs} length= {len(lcs)}')\n",
        "print('Matches:')\n",
        "print('\\t Char:\\t i, j')\n",
        "for (i, j) in match_locations:\n",
        "    print(f'\\t {s1[i]}:\\t {i}, {j}')"
      ]
    },
    {
      "cell_type": "code",
      "execution_count": 10,
      "id": "reserved-blogger",
      "metadata": {
        "colab": {
          "base_uri": "https://localhost:8080/"
        },
        "id": "reserved-blogger",
        "outputId": "6a1d3377-9c4c-483e-ff34-b6d3a4d06e52"
      },
      "outputs": [
        {
          "output_type": "stream",
          "name": "stdout",
          "text": [
            "Longest common subsequence: ACTTAGGAGCG length= 11\n",
            "Matches:\n",
            "\t Char:\t i, j\n",
            "\t A:\t 2, 0\n",
            "\t C:\t 6, 1\n",
            "\t T:\t 9, 2\n",
            "\t T:\t 10, 3\n",
            "\t A:\t 11, 4\n",
            "\t G:\t 13, 5\n",
            "\t G:\t 14, 6\n",
            "\t A:\t 15, 8\n",
            "\t G:\t 16, 9\n",
            "\t C:\t 18, 15\n",
            "\t G:\t 20, 17\n",
            "time: 2.36 ms (started: 2023-08-10 12:27:33 +00:00)\n"
          ]
        }
      ],
      "source": [
        "s1 = \"GGATTACCATTATGGAGGCGGA\"\n",
        "s2 = \"ACTTAGGTAGATTATCCG\"\n",
        "(lcs, match_locations) = memoize_lcs(s1, s2)\n",
        "print(f'Longest common subsequence: {lcs} length= {len(lcs)}')\n",
        "print('Matches:')\n",
        "print('\\t Char:\\t i, j')\n",
        "for (i, j) in match_locations:\n",
        "    print(f'\\t {s1[i]}:\\t {i}, {j}')"
      ]
    },
    {
      "cell_type": "code",
      "execution_count": 11,
      "id": "numeric-market",
      "metadata": {
        "colab": {
          "base_uri": "https://localhost:8080/"
        },
        "id": "numeric-market",
        "outputId": "efd04968-2754-42fe-d9d2-d995f658e295"
      },
      "outputs": [
        {
          "output_type": "stream",
          "name": "stdout",
          "text": [
            "Longest common subsequence: GGATTACAATTACCTATATATAAT length= 24\n",
            "Matches:\n",
            "\t Char:\t i, j\n",
            "\t G:\t 0, 0\n",
            "\t G:\t 1, 1\n",
            "\t A:\t 2, 2\n",
            "\t T:\t 3, 3\n",
            "\t T:\t 4, 4\n",
            "\t A:\t 5, 6\n",
            "\t C:\t 6, 8\n",
            "\t A:\t 7, 10\n",
            "\t A:\t 9, 12\n",
            "\t T:\t 10, 15\n",
            "\t T:\t 11, 16\n",
            "\t A:\t 12, 17\n",
            "\t C:\t 13, 18\n",
            "\t C:\t 14, 19\n",
            "\t T:\t 15, 20\n",
            "\t A:\t 16, 21\n",
            "\t T:\t 17, 22\n",
            "\t A:\t 18, 25\n",
            "\t T:\t 21, 26\n",
            "\t A:\t 22, 28\n",
            "\t T:\t 23, 29\n",
            "\t A:\t 24, 30\n",
            "\t A:\t 25, 33\n",
            "\t T:\t 26, 37\n",
            "time: 1.99 ms (started: 2023-08-10 12:27:42 +00:00)\n"
          ]
        }
      ],
      "source": [
        "#slightly longer strings will run instantaneously given that we are memoizing\n",
        "s1 = \"GGATTACACATTACCTATAGGTATAAT\"\n",
        "s2 = \"GGATTTATCTATAAATTACCTATTTATTATATTACCGTATGGTATGC\"\n",
        "(lcs, match_locations) = memoize_lcs(s1, s2)\n",
        "print(f'Longest common subsequence: {lcs} length= {len(lcs)}')\n",
        "print('Matches:')\n",
        "print('\\t Char:\\t i, j')\n",
        "for (i, j) in match_locations:\n",
        "    print(f'\\t {s1[i]}:\\t {i}, {j}')"
      ]
    },
    {
      "cell_type": "code",
      "execution_count": 11,
      "id": "printable-proof",
      "metadata": {
        "id": "printable-proof",
        "outputId": "6b905bc9-405e-4088-cd95-36b2d943e99e",
        "colab": {
          "base_uri": "https://localhost:8080/"
        }
      },
      "outputs": [
        {
          "output_type": "stream",
          "name": "stdout",
          "text": [
            "time: 8.54 s (started: 2023-08-10 12:27:42 +00:00)\n"
          ]
        }
      ],
      "source": []
    }
  ],
  "metadata": {
    "kernelspec": {
      "display_name": "Python 3",
      "language": "python",
      "name": "python3"
    },
    "language_info": {
      "codemirror_mode": {
        "name": "ipython",
        "version": 3
      },
      "file_extension": ".py",
      "mimetype": "text/x-python",
      "name": "python",
      "nbconvert_exporter": "python",
      "pygments_lexer": "ipython3",
      "version": "3.9.1"
    },
    "colab": {
      "provenance": [],
      "include_colab_link": true
    }
  },
  "nbformat": 4,
  "nbformat_minor": 5
}