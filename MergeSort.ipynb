{
  "nbformat": 4,
  "nbformat_minor": 0,
  "metadata": {
    "colab": {
      "provenance": [],
      "authorship_tag": "ABX9TyOO/yC9eqdL5S8d8i7ijZwU",
      "include_colab_link": true
    },
    "kernelspec": {
      "name": "python3",
      "display_name": "Python 3"
    },
    "language_info": {
      "name": "python"
    }
  },
  "cells": [
    {
      "cell_type": "markdown",
      "metadata": {
        "id": "view-in-github",
        "colab_type": "text"
      },
      "source": [
        "<a href=\"https://colab.research.google.com/github/RyanOrdonez/MyFirstRepo/blob/main/MergeSort.ipynb\" target=\"_parent\"><img src=\"https://colab.research.google.com/assets/colab-badge.svg\" alt=\"Open In Colab\"/></a>"
      ]
    },
    {
      "cell_type": "markdown",
      "source": [
        "### **Merge Sort**\n",
        "The main idea behind merge sort of a list of size n is to\n",
        "\n",
        "1.   Split the list into two \"sublists\" of size n/2\n",
        "2.   Sort the sublists\n",
        "3.   Merge the result."
      ],
      "metadata": {
        "id": "VSSSLNaYGthf"
      }
    },
    {
      "cell_type": "code",
      "metadata": {
        "id": "-5Kgn7T2yJe6"
      },
      "source": [
        "def mergesort(lst):\n",
        "    if len(lst) <= 1:\n",
        "        return \n",
        "    else:\n",
        "        mergesortHelper(lst, 0, len(lst)-1)\n",
        "\n",
        "def mergesortHelper(lst, left, right):\n",
        "    if (left == right): \n",
        "        return \n",
        "    elif (left + 1 == right): \n",
        "        if (lst[left] > lst[right]): \n",
        "            swap(lst, left, right)   \n",
        "    else: \n",
        "        mid = (left + right ) // 2  \n",
        "        mergesortHelper(lst, left, mid) \n",
        "        mergesortHelper(lst, mid + 1 , right) \n",
        "        mergeHelper(lst, left, mid, right) \n",
        "\n",
        "def swap(lst, i, j):\n",
        "    n = len(lst)\n",
        "    assert( i >= 0 and i < n)\n",
        "    assert( j >= 0 and j < n)\n",
        "    (lst[i], lst[j]) = (lst[j], lst[i])\n",
        "    return\n",
        "\n",
        "def mergeHelper(lst, left, mid, right):\n",
        "    if left > mid or mid > right:  \n",
        "        return\n",
        "    i1 = left\n",
        "    i2 = mid + 1\n",
        "    output_lst = []\n",
        "    while (i1 <= mid or i2 <= right):\n",
        "        if (i1 <= mid and i2 <= right):\n",
        "            if lst[i1] <= lst[i2]:\n",
        "                output_lst.append(lst[i1])\n",
        "                i1 = i1 + 1\n",
        "            else:\n",
        "                output_lst.append(lst[i2])\n",
        "                i2 = i2 + 1\n",
        "        elif i1 <= mid:\n",
        "            output_lst.append(lst[i1])\n",
        "            i1 = i1 + 1\n",
        "        else:\n",
        "            output_lst.append(lst[i2])\n",
        "            i2 = i2 + 1\n",
        "    copy_back(output_lst, lst, left, right)\n",
        "    return \n",
        "\n",
        "def copy_back(output_lst, lst, left, right):\n",
        "    assert(len(output_lst) == right - left + 1)\n",
        "    for i in range(left, right+1):\n",
        "        lst[i] = output_lst[i - left]\n",
        "    return \n",
        "        "
      ],
      "execution_count": 1,
      "outputs": []
    },
    {
      "cell_type": "code",
      "source": [
        "#test cases \n",
        "\n",
        "lst = [0, 5, 6, 2, 19, -1, 2, 3, 0, 4, 5, 8]\n",
        "mergesort(lst)\n",
        "print(lst)\n",
        "\n",
        "lst1 = [0, 1, 2, 6, 18, 19, -20, -45, -23, 25, 56, 19, 81, 123, 122]\n",
        "mergesort(lst1)\n",
        "print(lst1)\n",
        "\n",
        "lst2 = [4,3,2,1]\n",
        "mergesort(lst2)\n",
        "print(lst2)\n",
        "\n",
        "lst3 = [4,1,1,1,2,2,3]\n",
        "mergesort(lst3)\n",
        "print(lst3)\n",
        "\n",
        "lst4 = [8,1]\n",
        "mergesort(lst4)\n",
        "print(lst4)\n",
        "\n",
        "lst5 = []\n",
        "mergesort(lst5)\n",
        "print(lst5)"
      ],
      "metadata": {
        "colab": {
          "base_uri": "https://localhost:8080/"
        },
        "id": "TswZ648HIY1l",
        "outputId": "b8431bbf-f2a9-4540-ab06-745efddbe862"
      },
      "execution_count": 2,
      "outputs": [
        {
          "output_type": "stream",
          "name": "stdout",
          "text": [
            "[-1, 0, 0, 2, 2, 3, 4, 5, 5, 6, 8, 19]\n",
            "[-45, -23, -20, 0, 1, 2, 6, 18, 19, 19, 25, 56, 81, 122, 123]\n",
            "[1, 2, 3, 4]\n",
            "[1, 1, 1, 2, 2, 3, 4]\n",
            "[1, 8]\n",
            "[]\n"
          ]
        }
      ]
    },
    {
      "cell_type": "markdown",
      "source": [
        "\n",
        "\n",
        "---\n",
        "\n"
      ],
      "metadata": {
        "id": "LEI0PARGGqj_"
      }
    },
    {
      "cell_type": "markdown",
      "source": [],
      "metadata": {
        "id": "_4BJjfRPIrHh"
      }
    }
  ]
}